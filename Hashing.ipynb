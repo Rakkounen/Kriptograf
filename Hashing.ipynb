{
  "nbformat": 4,
  "nbformat_minor": 0,
  "metadata": {
    "colab": {
      "provenance": [],
      "authorship_tag": "ABX9TyMte8xaBqxu0XKpyuSKFWW/",
      "include_colab_link": true
    },
    "kernelspec": {
      "name": "python3",
      "display_name": "Python 3"
    },
    "language_info": {
      "name": "python"
    }
  },
  "cells": [
    {
      "cell_type": "markdown",
      "metadata": {
        "id": "view-in-github",
        "colab_type": "text"
      },
      "source": [
        "<a href=\"https://colab.research.google.com/github/rakhapatria/Kriptograf/blob/main/Hashing.ipynb\" target=\"_parent\"><img src=\"https://colab.research.google.com/assets/colab-badge.svg\" alt=\"Open In Colab\"/></a>"
      ]
    },
    {
      "cell_type": "code",
      "execution_count": 2,
      "metadata": {
        "colab": {
          "base_uri": "https://localhost:8080/"
        },
        "id": "qt_wIrkK11wA",
        "outputId": "44a2d4cd-ba64-48b3-b909-e79f58aaa7e6"
      },
      "outputs": [
        {
          "output_type": "stream",
          "name": "stdout",
          "text": [
            "--2024-06-05 14:44:07--  https://github.com/isfahany/infosec-module-downloadable-file/raw/master/collision-example/file.zip\n",
            "Resolving github.com (github.com)... 140.82.121.4\n",
            "Connecting to github.com (github.com)|140.82.121.4|:443... connected.\n",
            "HTTP request sent, awaiting response... 302 Found\n",
            "Location: https://raw.githubusercontent.com/isfahany/infosec-module-downloadable-file/master/collision-example/file.zip [following]\n",
            "--2024-06-05 14:44:07--  https://raw.githubusercontent.com/isfahany/infosec-module-downloadable-file/master/collision-example/file.zip\n",
            "Resolving raw.githubusercontent.com (raw.githubusercontent.com)... 185.199.108.133, 185.199.109.133, 185.199.110.133, ...\n",
            "Connecting to raw.githubusercontent.com (raw.githubusercontent.com)|185.199.108.133|:443... connected.\n",
            "HTTP request sent, awaiting response... 200 OK\n",
            "Length: 454 [application/zip]\n",
            "Saving to: ‘file.zip’\n",
            "\n",
            "file.zip            100%[===================>]     454  --.-KB/s    in 0s      \n",
            "\n",
            "2024-06-05 14:44:07 (21.3 MB/s) - ‘file.zip’ saved [454/454]\n",
            "\n"
          ]
        }
      ],
      "source": [
        "!wget https://github.com/isfahany/infosec-module-downloadable-file/raw/master/collision-example/file.zip\n"
      ]
    },
    {
      "cell_type": "code",
      "source": [
        "!ls"
      ],
      "metadata": {
        "colab": {
          "base_uri": "https://localhost:8080/"
        },
        "id": "i6_wC0CM3JjR",
        "outputId": "d0704b92-bbe9-4c8e-f0e2-e53c4ca6c031"
      },
      "execution_count": 3,
      "outputs": [
        {
          "output_type": "stream",
          "name": "stdout",
          "text": [
            "file.zip  sample_data\n"
          ]
        }
      ]
    },
    {
      "cell_type": "code",
      "source": [
        "!unzip file.zip"
      ],
      "metadata": {
        "colab": {
          "base_uri": "https://localhost:8080/"
        },
        "id": "GziL7thU3gRY",
        "outputId": "34b308aa-e519-4fac-df1b-d4383c6fa66a"
      },
      "execution_count": 4,
      "outputs": [
        {
          "output_type": "stream",
          "name": "stdout",
          "text": [
            "Archive:  file.zip\n",
            " extracting: message1.bin            \n",
            " extracting: message2.bin            \n"
          ]
        }
      ]
    },
    {
      "cell_type": "code",
      "source": [
        "!cat message1.bin"
      ],
      "metadata": {
        "colab": {
          "base_uri": "https://localhost:8080/"
        },
        "id": "o1Ie0nqB3t9n",
        "outputId": "24acb37b-1004-421d-ae17-83be750cfbae"
      },
      "execution_count": 6,
      "outputs": [
        {
          "output_type": "stream",
          "name": "stdout",
          "text": [
            "M�h�\u000e�\\ �r�w{r\u0015��o��\u001b�V�J=�x>{�\u0018���\u0000�(K�n�KU�_Bu��Igm��U]�`�_\u0007��"
          ]
        }
      ]
    },
    {
      "cell_type": "code",
      "source": [
        "!cat message2.bin"
      ],
      "metadata": {
        "colab": {
          "base_uri": "https://localhost:8080/"
        },
        "id": "TOaf0qMe3uEw",
        "outputId": "ee8c57ad-2087-49b5-9d45-2fff593da269"
      },
      "execution_count": 7,
      "outputs": [
        {
          "output_type": "stream",
          "name": "stdout",
          "text": [
            "M�h�\u000e�\\ �r�w{r\u0015��o��\u001b�V�J=�x>{�\u0018���\u0002�(K�n�KU�_Bu��Igm���]�`�_\u0007��"
          ]
        }
      ]
    },
    {
      "cell_type": "code",
      "source": [
        "!sha1sum message1.bin message2.bin"
      ],
      "metadata": {
        "colab": {
          "base_uri": "https://localhost:8080/"
        },
        "id": "4r3BUizc32J3",
        "outputId": "dc003b35-7f4f-429a-f2f0-994f8f6e607d"
      },
      "execution_count": 8,
      "outputs": [
        {
          "output_type": "stream",
          "name": "stdout",
          "text": [
            "c6b384c4968b28812b676b49d40c09f8af4ed4cc  message1.bin\n",
            "c728d8d93091e9c7b87b43d9e33829379231d7ca  message2.bin\n"
          ]
        }
      ]
    },
    {
      "cell_type": "code",
      "source": [
        "!sha256sum message1.bin message2.bin"
      ],
      "metadata": {
        "colab": {
          "base_uri": "https://localhost:8080/"
        },
        "id": "jjmjqCIc6Qw6",
        "outputId": "6843c882-d66f-4196-df52-1131bb2a6413"
      },
      "execution_count": 9,
      "outputs": [
        {
          "output_type": "stream",
          "name": "stdout",
          "text": [
            "54bcb9a4fda31e4f254303e3959acd5e420ad18a80949d56a3000c3716fbd1a0  message1.bin\n",
            "90774a6455a2bdb7d106e533923ecbefe81392ca55bed0ce81cfab2c1a7f0afe  message2.bin\n"
          ]
        }
      ]
    },
    {
      "cell_type": "code",
      "source": [
        "!md5sum message1.bin message2.bin"
      ],
      "metadata": {
        "colab": {
          "base_uri": "https://localhost:8080/"
        },
        "id": "dmTKALV47bDz",
        "outputId": "2b6cc397-e4e5-4b96-ec4c-17bcc4fad2f4"
      },
      "execution_count": 10,
      "outputs": [
        {
          "output_type": "stream",
          "name": "stdout",
          "text": [
            "008ee33a9d58b51cfeb425b0959121c9  message1.bin\n",
            "008ee33a9d58b51cfeb425b0959121c9  message2.bin\n"
          ]
        }
      ]
    }
  ]
}